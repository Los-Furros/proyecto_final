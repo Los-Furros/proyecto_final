{
 "cells": [
  {
   "cell_type": "markdown",
   "id": "d7a4d375",
   "metadata": {},
   "source": [
    "# Entrenando modelo para reconocer palabras"
   ]
  },
  {
   "cell_type": "markdown",
   "id": "e583107f",
   "metadata": {},
   "source": [
    "### Obteniendo los comandos iniciales"
   ]
  },
  {
   "cell_type": "code",
   "execution_count": null,
   "id": "9377a25d",
   "metadata": {},
   "outputs": [],
   "source": [
    "#----------------------------------------------------------------------------------\n",
    "#--------------------------------\n",
    "#   Speech data aquisition\n",
    "#----------------------------------------------------------------------------------\n",
    "#--------------------------------\n",
    "import time\n",
    "import random\n",
    "import numpy as np\n",
    "import sounddevice as sd\n",
    "import pickle\n",
    "from datetime import datetime\n",
    "# Experiment configuration\n",
    "conditions = [('Escuela', 1), ('Trabajo', 2), ('Casa', 3), ('Boliche', 4), ('Bar', 5)]\n",
    "n_trials = 30\n",
    "fixation_cross_time = 2\n",
    "preparation_time = 0.3\n",
    "training_time = 2\n",
    "rest_time = 1\n",
    "trials = n_trials*conditions\n",
    "random.shuffle(trials)\n",
    "fs=44100    \n",
    "# Data aquisition\n",
    "data = []\n",
    "for i,t in enumerate(trials):\n",
    "    # Fixation cross\n",
    "    print (\"*********\")    \n",
    "    time.sleep(fixation_cross_time)    \n",
    "    \n",
    "    # Preparation time\n",
    "    print (t[0])\n",
    "    time.sleep(preparation_time)\n",
    "    # Task    \n",
    "    recording = sd.rec(training_time * fs, samplerate=fs, \n",
    "channels=2,dtype='float64')    \n",
    "    sd.wait()\n",
    "    data.append((t[0], t[1], recording))\n",
    "    # Rest time\n",
    "    print(f\"----Descansa---- {len(trials) - i - 1} left. \")\n",
    "    time.sleep(rest_time)\n",
    "# Play records\n",
    "for t in data:\n",
    "    sd.play(t[2], fs)\n",
    "    sd.wait()\n",
    "# Save data\n",
    "outputFile = open('JORGE.obj', 'wb')\n",
    "pickle.dump(data, outputFile)\n",
    "outputFile.close()\n",
    "#----------------------------------------------------------------------------------\n",
    "#--------------------------------\n",
    "#   End of file\n",
    "#----------------------------------------------------------------------------------"
   ]
  },
  {
   "cell_type": "markdown",
   "id": "08c4511a",
   "metadata": {},
   "source": [
    "### obtener la matriz de features"
   ]
  },
  {
   "cell_type": "code",
   "execution_count": 1,
   "id": "466debb7",
   "metadata": {},
   "outputs": [],
   "source": [
    "import pickle\n",
    "import numpy as np\n",
    "from scipy import stats\n",
    "from scipy import signal\n",
    "import matplotlib.pyplot as plt\n",
    "import sounddevice as sd\n",
    "from python_speech_features import mfcc\n",
    "\n",
    "def process_voice_commands(file_name):\n",
    "    #----------------------------------------------------------------------------------\n",
    "    #--------------------------------\n",
    "    #   Speech data processing\n",
    "    #----------------------------------------------------------------------------------\n",
    "    #--------------------------------\n",
    "\n",
    "\n",
    "\n",
    "    # Load audio records\n",
    "    fs = 44100\n",
    "    inputFile = open(file_name, 'rb')\n",
    "    data = pickle.load(inputFile)\n",
    "    n_trials = len(data)\n",
    "    # Plot one record\n",
    "    t = 5\n",
    "    dt = 1/fs\n",
    "    t_size = data[t][2].shape[0]\n",
    "    x = np.arange(0, t_size*dt, dt)\n",
    "    figure, axis = plt.subplots(2, 1)\n",
    "    axis[0].plot(x, data[t][2][:,0])\n",
    "    axis[0].set_title(\"Canal 1\")\n",
    "    axis[1].plot(x, data[t][2][:,1])\n",
    "    axis[1].set_title(\"Canal 2\")\n",
    "    plt.show()\n",
    "    # Filter signals\n",
    "    filt = signal.iirfilter(4, [10, 15000], rs=60, btype='band',\n",
    "                           analog=False, ftype='cheby2', fs=fs,\n",
    "                           output='ba')\n",
    "    filtered = []\n",
    "    for tr in data:\n",
    "        ff1 = signal.filtfilt(filt[0], filt[1], tr[2][:,0], method='gust')\n",
    "        ff2 = signal.filtfilt(filt[0], filt[1], tr[2][:,1], method='gust')\n",
    "        filtered.append(np.column_stack((ff1, ff2)))\n",
    "    figure, axis = plt.subplots(2, 1)\n",
    "    axis[0].plot(x, filtered[t][:,0])\n",
    "    axis[0].set_title(\"Canal 1\")\n",
    "    axis[1].plot(x, filtered[t][:,1])\n",
    "    axis[1].set_title(\"Canal 2\")\n",
    "    plt.show()\n",
    "    sd.play(filtered[t], fs)\n",
    "    sd.wait()\n",
    "    sd.play(data[t][2], fs)\n",
    "    sd.wait()\n",
    "    # Calculate MFCC features\n",
    "    mfcc_feat = mfcc(filtered[t], fs, nfft = 2048)\n",
    "    plt.matshow(mfcc_feat.T)\n",
    "    plt.show()\n",
    "    features = []\n",
    "    for tr in data:\n",
    "        mfcc_feat = mfcc(tr[2], fs, nfft = 2048)\n",
    "        features.append(mfcc_feat.flatten())\n",
    "    # Build x and y arrays\n",
    "    x = np.array(features)\n",
    "    y = [row[1] for row in data]\n",
    "    \n",
    "    y = np.array(y)\n",
    "    #return x and y\n",
    "    return x, y\n",
    "    \n",
    "    #----------------------------------------------------------------------------------\n",
    "    #--------------------------------\n",
    "    #   End of file\n",
    "    #----------------------------------------------------------------------------------\n",
    "    #--------------------------------"
   ]
  },
  {
   "cell_type": "markdown",
   "id": "fab09e79",
   "metadata": {},
   "source": [
    "### Obteniendo modelo a usar"
   ]
  },
  {
   "cell_type": "code",
   "execution_count": 24,
   "id": "5e2cc23b",
   "metadata": {
    "scrolled": true
   },
   "outputs": [],
   "source": [
    "from sklearn import svm\n",
    "from sklearn.model_selection import cross_validate\n",
    "from sklearn.neighbors import KNeighborsClassifier"
   ]
  },
  {
   "cell_type": "code",
   "execution_count": 21,
   "id": "86873159",
   "metadata": {},
   "outputs": [],
   "source": [
    "def getSVC():\n",
    "    return svm.SVC(kernel='linear')\n",
    "def getRad():\n",
    "    return svm.SVC(kernel='rbf')\n",
    "def getKNN():\n",
    "    return KNeighborsClassifier(n_neighbors=5)"
   ]
  },
  {
   "cell_type": "code",
   "execution_count": 22,
   "id": "b36a548d",
   "metadata": {},
   "outputs": [],
   "source": [
    "modelos = {\n",
    "    \"SVM lineal\": getSVC,\n",
    "    \"SVM de base radial\": getRad,\n",
    "    \"KNN\": getKNN,\n",
    "}"
   ]
  },
  {
   "cell_type": "markdown",
   "id": "10728f00",
   "metadata": {},
   "source": [
    "## Obteniendo features del audio "
   ]
  },
  {
   "cell_type": "code",
   "execution_count": 20,
   "id": "4db65bb0",
   "metadata": {},
   "outputs": [
    {
     "name": "stdout",
     "output_type": "stream",
     "text": [
      "USANDO COMANDOS DE: JORGITO\n"
     ]
    },
    {
     "data": {
      "image/png": "[encoded data removed]",
      "text/plain": [
       "<Figure size 432x288 with 2 Axes>"
      ]
     },
     "metadata": {
      "needs_background": "light"
     },
     "output_type": "display_data"
    },
    {
     "data": {
      "image/png": "[encoded data removed]",
      "text/plain": [
       "<Figure size 432x288 with 2 Axes>"
      ]
     },
     "metadata": {
      "needs_background": "light"
     },
     "output_type": "display_data"
    },
    {
     "data": {
      "image/png": "[encoded data removed]",
      "text/plain": [
       "<Figure size 1152x144 with 1 Axes>"
      ]
     },
     "metadata": {
      "needs_background": "light"
     },
     "output_type": "display_data"
    },
    {
     "name": "stdout",
     "output_type": "stream",
     "text": [
      "USANDO MODELO: SVM lineal\n",
      "Acc:  0.8933333333333333\n",
      "Recall:  0.8933333333333333\n",
      "Precision:  0.8933333333333333\n",
      "\n",
      "\n"
     ]
    }
   ],
   "source": [
    "print(f\"USANDO COMANDOS DE: JORGITO\")\n",
    "file_name = \"JORGE.obj\"\n",
    "x, y = process_voice_commands(file_name)\n",
    "model_string = \"SVM lineal\"\n",
    "model = modelos[model_string]()\n",
    "print(f\"USANDO MODELO: {model_string}\")\n",
    "clas_results = cross_validate(model, x, y, cv = 5, scoring = ('accuracy', 'recall_micro', 'precision_micro'))\n",
    "print('Acc: ', clas_results['test_accuracy'].sum()/5)\n",
    "print('Recall: ', clas_results['test_recall_micro'].sum()/5)\n",
    "print('Precision: ', clas_results['test_precision_micro'].sum()/5)\n",
    "print()\n",
    "print()"
   ]
  },
  {
   "cell_type": "code",
   "execution_count": 25,
   "id": "49177da4",
   "metadata": {},
   "outputs": [
    {
     "name": "stdout",
     "output_type": "stream",
     "text": [
      "USANDO COMANDOS DE: JORGITO\n"
     ]
    },
    {
     "data": {
      "image/png": "[encoded data removed]",
      "text/plain": [
       "<Figure size 432x288 with 2 Axes>"
      ]
     },
     "metadata": {
      "needs_background": "light"
     },
     "output_type": "display_data"
    },
    {
     "data": {
      "image/png": "[encoded data removed]",
      "text/plain": [
       "<Figure size 432x288 with 2 Axes>"
      ]
     },
     "metadata": {
      "needs_background": "light"
     },
     "output_type": "display_data"
    },
    {
     "data": {
      "image/png": "[encoded data removed]",
      "text/plain": [
       "<Figure size 1152x144 with 1 Axes>"
      ]
     },
     "metadata": {
      "needs_background": "light"
     },
     "output_type": "display_data"
    },
    {
     "name": "stdout",
     "output_type": "stream",
     "text": [
      "USANDO MODELO: KNN\n",
      "Acc:  0.8133333333333335\n",
      "Recall:  0.8133333333333335\n",
      "Precision:  0.8133333333333335\n",
      "\n",
      "\n"
     ]
    }
   ],
   "source": [
    "print(f\"USANDO COMANDOS DE: JORGITO\")\n",
    "file_name = \"JORGE.obj\"\n",
    "x2, y2 = process_voice_commands(file_name)\n",
    "model_string2 = \"KNN\"\n",
    "model2 = modelos[model_string2]()\n",
    "print(f\"USANDO MODELO: {model_string2}\")\n",
    "clas_results = cross_validate(model2, x2, y2, cv = 5, scoring = ('accuracy', 'recall_micro', 'precision_micro'))\n",
    "print('Acc: ', clas_results['test_accuracy'].sum()/5)\n",
    "print('Recall: ', clas_results['test_recall_micro'].sum()/5)\n",
    "print('Precision: ', clas_results['test_precision_micro'].sum()/5)\n",
    "print()\n",
    "print()"
   ]
  },
  {
   "cell_type": "code",
   "execution_count": 10,
   "id": "7dc5732b",
   "metadata": {},
   "outputs": [
    {
     "data": {
      "text/html": [
       "<style>#sk-container-id-1 {color: black;background-color: white;}#sk-container-id-1 pre{padding: 0;}#sk-container-id-1 div.sk-toggleable {background-color: white;}#sk-container-id-1 label.sk-toggleable__label {cursor: pointer;display: block;width: 100%;margin-bottom: 0;padding: 0.3em;box-sizing: border-box;text-align: center;}#sk-container-id-1 label.sk-toggleable__label-arrow:before {content: \"▸\";float: left;margin-right: 0.25em;color: #696969;}#sk-container-id-1 label.sk-toggleable__label-arrow:hover:before {color: black;}#sk-container-id-1 div.sk-estimator:hover label.sk-toggleable__label-arrow:before {color: black;}#sk-container-id-1 div.sk-toggleable__content {max-height: 0;max-width: 0;overflow: hidden;text-align: left;background-color: #f0f8ff;}#sk-container-id-1 div.sk-toggleable__content pre {margin: 0.2em;color: black;border-radius: 0.25em;background-color: #f0f8ff;}#sk-container-id-1 input.sk-toggleable__control:checked~div.sk-toggleable__content {max-height: 200px;max-width: 100%;overflow: auto;}#sk-container-id-1 input.sk-toggleable__control:checked~label.sk-toggleable__label-arrow:before {content: \"▾\";}#sk-container-id-1 div.sk-estimator input.sk-toggleable__control:checked~label.sk-toggleable__label {background-color: #d4ebff;}#sk-container-id-1 div.sk-label input.sk-toggleable__control:checked~label.sk-toggleable__label {background-color: #d4ebff;}#sk-container-id-1 input.sk-hidden--visually {border: 0;clip: rect(1px 1px 1px 1px);clip: rect(1px, 1px, 1px, 1px);height: 1px;margin: -1px;overflow: hidden;padding: 0;position: absolute;width: 1px;}#sk-container-id-1 div.sk-estimator {font-family: monospace;background-color: #f0f8ff;border: 1px dotted black;border-radius: 0.25em;box-sizing: border-box;margin-bottom: 0.5em;}#sk-container-id-1 div.sk-estimator:hover {background-color: #d4ebff;}#sk-container-id-1 div.sk-parallel-item::after {content: \"\";width: 100%;border-bottom: 1px solid gray;flex-grow: 1;}#sk-container-id-1 div.sk-label:hover label.sk-toggleable__label {background-color: #d4ebff;}#sk-container-id-1 div.sk-serial::before {content: \"\";position: absolute;border-left: 1px solid gray;box-sizing: border-box;top: 0;bottom: 0;left: 50%;z-index: 0;}#sk-container-id-1 div.sk-serial {display: flex;flex-direction: column;align-items: center;background-color: white;padding-right: 0.2em;padding-left: 0.2em;position: relative;}#sk-container-id-1 div.sk-item {position: relative;z-index: 1;}#sk-container-id-1 div.sk-parallel {display: flex;align-items: stretch;justify-content: center;background-color: white;position: relative;}#sk-container-id-1 div.sk-item::before, #sk-container-id-1 div.sk-parallel-item::before {content: \"\";position: absolute;border-left: 1px solid gray;box-sizing: border-box;top: 0;bottom: 0;left: 50%;z-index: -1;}#sk-container-id-1 div.sk-parallel-item {display: flex;flex-direction: column;z-index: 1;position: relative;background-color: white;}#sk-container-id-1 div.sk-parallel-item:first-child::after {align-self: flex-end;width: 50%;}#sk-container-id-1 div.sk-parallel-item:last-child::after {align-self: flex-start;width: 50%;}#sk-container-id-1 div.sk-parallel-item:only-child::after {width: 0;}#sk-container-id-1 div.sk-dashed-wrapped {border: 1px dashed gray;margin: 0 0.4em 0.5em 0.4em;box-sizing: border-box;padding-bottom: 0.4em;background-color: white;}#sk-container-id-1 div.sk-label label {font-family: monospace;font-weight: bold;display: inline-block;line-height: 1.2em;}#sk-container-id-1 div.sk-label-container {text-align: center;}#sk-container-id-1 div.sk-container {/* jupyter's `normalize.less` sets `[hidden] { display: none; }` but bootstrap.min.css set `[hidden] { display: none !important; }` so we also need the `!important` here to be able to override the default hidden behavior on the sphinx rendered scikit-learn.org. See: https://github.com/scikit-learn/scikit-learn/issues/21755 */display: inline-block !important;position: relative;}#sk-container-id-1 div.sk-text-repr-fallback {display: none;}</style><div id=\"sk-container-id-1\" class=\"sk-top-container\"><div class=\"sk-text-repr-fallback\"><pre>SVC(kernel=&#x27;linear&#x27;)</pre><b>In a Jupyter environment, please rerun this cell to show the HTML representation or trust the notebook. <br />On GitHub, the HTML representation is unable to render, please try loading this page with nbviewer.org.</b></div><div class=\"sk-container\" hidden><div class=\"sk-item\"><div class=\"sk-estimator sk-toggleable\"><input class=\"sk-toggleable__control sk-hidden--visually\" id=\"sk-estimator-id-1\" type=\"checkbox\" checked><label for=\"sk-estimator-id-1\" class=\"sk-toggleable__label sk-toggleable__label-arrow\">SVC</label><div class=\"sk-toggleable__content\"><pre>SVC(kernel=&#x27;linear&#x27;)</pre></div></div></div></div></div>"
      ],
      "text/plain": [
       "SVC(kernel='linear')"
      ]
     },
     "execution_count": 10,
     "metadata": {},
     "output_type": "execute_result"
    }
   ],
   "source": [
    "svc2 = modelos[model_string]()\n",
    "svc2.fit(x,y)"
   ]
  },
  {
   "cell_type": "code",
   "execution_count": null,
   "id": "5812ce26",
   "metadata": {},
   "outputs": [],
   "source": []
  },
  {
   "cell_type": "code",
   "execution_count": 12,
   "id": "87dcdf02",
   "metadata": {},
   "outputs": [],
   "source": [
    "import time\n",
    "import random\n",
    "import numpy as np\n",
    "import sounddevice as sd\n",
    "import pickle\n",
    "from datetime import datetime\n",
    "\n",
    "fs=44100\n",
    "training_time = 2\n",
    "\n",
    "r_recording = sd.rec(training_time * fs, samplerate=fs, \n",
    "channels=2,dtype='float64')\n",
    "sd.wait()\n",
    "\n",
    "sd.play(r_recording, fs)\n",
    "sd.wait()"
   ]
  },
  {
   "cell_type": "code",
   "execution_count": 55,
   "id": "b64ad5c3",
   "metadata": {},
   "outputs": [],
   "source": [
    "fs=44100\n",
    "training_time = 2\n",
    "\n",
    "r_recording2 = sd.rec(training_time * fs, samplerate=fs, \n",
    "channels=2,dtype='float64')\n",
    "sd.wait()\n",
    "\n",
    "#sd.play(r_recording2, fs)\n",
    "#sd.wait()"
   ]
  },
  {
   "cell_type": "code",
   "execution_count": 56,
   "id": "5c7528a7",
   "metadata": {},
   "outputs": [
    {
     "data": {
      "text/plain": [
       "'Casa'"
      ]
     },
     "execution_count": 56,
     "metadata": {},
     "output_type": "execute_result"
    }
   ],
   "source": [
    "current_features = []\n",
    "mfcc_feat = mfcc(r_recording2, fs, nfft = 2048)\n",
    "current_features.append(mfcc_feat.flatten())\n",
    "x_test2 = np.array(current_features)\n",
    "\n",
    "labels[svc2.predict(x_test2)[0]]"
   ]
  },
  {
   "cell_type": "code",
   "execution_count": 66,
   "id": "dcfd6c70",
   "metadata": {},
   "outputs": [
    {
     "data": {
      "text/plain": [
       "'Escuela'"
      ]
     },
     "execution_count": 66,
     "metadata": {},
     "output_type": "execute_result"
    }
   ],
   "source": [
    "fs=44100\n",
    "training_time = 2\n",
    "\n",
    "r_recording2 = sd.rec(training_time * fs, samplerate=fs, \n",
    "channels=2,dtype='float64')\n",
    "sd.wait()\n",
    "\n",
    "time.sleep(1)\n",
    "\n",
    "current_features = []\n",
    "mfcc_feat = mfcc(r_recording2, fs, nfft = 2048)\n",
    "current_features.append(mfcc_feat.flatten())\n",
    "x_test2 = np.array(current_features)\n",
    "\n",
    "labels[svc2.predict(x_test2)[0]]"
   ]
  },
  {
   "cell_type": "code",
   "execution_count": 52,
   "id": "1e2a29bd",
   "metadata": {},
   "outputs": [],
   "source": [
    "labels = {\n",
    "    1:'Escuela',\n",
    "    2:'Trabajo',\n",
    "    3:'Casa',\n",
    "    4:'Boliche',\n",
    "    5:'Bar'\n",
    "}"
   ]
  },
  {
   "cell_type": "code",
   "execution_count": 54,
   "id": "1561c727",
   "metadata": {},
   "outputs": [
    {
     "data": {
      "text/plain": [
       "'Boliche'"
      ]
     },
     "execution_count": 54,
     "metadata": {},
     "output_type": "execute_result"
    }
   ],
   "source": [
    "labels[svc2.predict(x_test2)[0]]"
   ]
  },
  {
   "cell_type": "code",
   "execution_count": 27,
   "id": "3c238a18",
   "metadata": {},
   "outputs": [
    {
     "data": {
      "text/plain": [
       "array([3, 5, 3, 3, 3, 2, 1, 1, 3, 2, 3, 3, 1, 2, 2, 1, 5, 2, 5, 1, 1, 3,\n",
       "       4, 4, 5, 3, 4, 4, 1, 2, 1, 2, 2, 4, 2, 5, 1, 3, 1, 2, 5, 1, 3, 4,\n",
       "       2, 4, 2, 5, 5, 1, 4, 2, 5, 4, 4, 2, 5, 1, 4, 3, 5, 4, 4, 1, 2, 4,\n",
       "       5, 3, 3, 5, 3, 4, 4, 5, 2, 4, 5, 1, 1, 5, 2, 2, 4, 4, 5, 1, 3, 4,\n",
       "       5, 2, 5, 1, 5, 3, 4, 2, 1, 2, 4, 3, 5, 5, 3, 4, 5, 1, 2, 2, 4, 3,\n",
       "       5, 3, 5, 1, 5, 5, 4, 1, 2, 5, 3, 4, 1, 1, 1, 3, 1, 4, 2, 1, 4, 2,\n",
       "       5, 1, 3, 3, 2, 3, 2, 3, 5, 3, 2, 4, 3, 1, 1, 4, 3, 2])"
      ]
     },
     "execution_count": 27,
     "metadata": {},
     "output_type": "execute_result"
    }
   ],
   "source": [
    "y2"
   ]
  },
  {
   "cell_type": "markdown",
   "id": "ed59c1a5",
   "metadata": {},
   "source": [
    "# Planificador de rutas"
   ]
  },
  {
   "cell_type": "code",
   "execution_count": 68,
   "id": "e0f596c5",
   "metadata": {},
   "outputs": [
    {
     "name": "stdout",
     "output_type": "stream",
     "text": [
      "Collecting osmnx\n",
      "  Using cached osmnx-1.2.0-py2.py3-none-any.whl (92 kB)\n",
      "Collecting simpleai\n",
      "  Using cached simpleai-0.8.3.tar.gz (94 kB)\n",
      "  Preparing metadata (setup.py): started\n",
      "  Preparing metadata (setup.py): finished with status 'done'\n",
      "Requirement already satisfied: matplotlib>=3.5 in c:\\tec\\octavo_b\\sistemas\\proyecto_final\\2da_entrega\\prueba_env\\lib\\site-packages (from osmnx) (3.5.2)\n",
      "Collecting requests>=2.27\n",
      "  Using cached requests-2.28.0-py3-none-any.whl (62 kB)\n",
      "Collecting networkx>=2.8\n",
      "  Using cached networkx-2.8.3-py3-none-any.whl (2.0 MB)\n",
      "Collecting Shapely<2.0,>=1.8\n",
      "  Using cached Shapely-1.8.2-cp39-cp39-win_amd64.whl (1.3 MB)\n",
      "Collecting pandas>=1.4\n",
      "  Using cached pandas-1.4.2-cp39-cp39-win_amd64.whl (10.5 MB)\n",
      "Collecting pyproj>=3.3\n",
      "  Using cached pyproj-3.3.1-cp39-cp39-win_amd64.whl (6.4 MB)\n",
      "Collecting geopandas>=0.10\n",
      "  Using cached geopandas-0.10.2-py2.py3-none-any.whl (1.0 MB)\n",
      "Collecting Rtree>=1.0\n",
      "  Using cached Rtree-1.0.0-cp39-cp39-win_amd64.whl (433 kB)\n",
      "Requirement already satisfied: numpy>=1.21 in c:\\tec\\octavo_b\\sistemas\\proyecto_final\\2da_entrega\\prueba_env\\lib\\site-packages (from osmnx) (1.22.3)\n",
      "Collecting fiona>=1.8\n",
      "  Using cached Fiona-1.8.21.tar.gz (1.0 MB)\n",
      "  Preparing metadata (setup.py): started\n",
      "  Preparing metadata (setup.py): finished with status 'error'\n"
     ]
    },
    {
     "name": "stderr",
     "output_type": "stream",
     "text": [
      "  error: subprocess-exited-with-error\n",
      "  \n",
      "  python setup.py egg_info did not run successfully.\n",
      "  exit code: 1\n",
      "  \n",
      "  [1 lines of output]\n",
      "  A GDAL API version must be specified. Provide a path to gdal-config using a GDAL_CONFIG environment variable or use a GDAL_VERSION environment variable.\n",
      "  [end of output]\n",
      "  \n",
      "  note: This error originates from a subprocess, and is likely not a problem with pip.\n",
      "error: metadata-generation-failed\n",
      "\n",
      "Encountered error while generating package metadata.\n",
      "\n",
      "See above for output.\n",
      "\n",
      "note: This is an issue with the package mentioned above, not pip.\n",
      "hint: See above for details.\n",
      "WARNING: You are using pip version 22.0.4; however, version 22.1.2 is available.\n",
      "You should consider upgrading via the 'C:\\TEC\\OCTAVO_b\\SISTEMAS\\proyecto_final\\2da_entrega\\prueba_env\\Scripts\\python.exe -m pip install --upgrade pip' command.\n"
     ]
    }
   ],
   "source": [
    "#Instalando librerías de open street map y de simpleAI\n",
    "!python -m pip install osmnx simpleai"
   ]
  },
  {
   "cell_type": "code",
   "execution_count": 71,
   "id": "24045f45",
   "metadata": {},
   "outputs": [
    {
     "ename": "ModuleNotFoundError",
     "evalue": "No module named 'osmnx'",
     "output_type": "error",
     "traceback": [
      "\u001b[1;31m---------------------------------------------------------------------------\u001b[0m",
      "\u001b[1;31mModuleNotFoundError\u001b[0m                       Traceback (most recent call last)",
      "Input \u001b[1;32mIn [71]\u001b[0m, in \u001b[0;36m<cell line: 2>\u001b[1;34m()\u001b[0m\n\u001b[0;32m      1\u001b[0m \u001b[38;5;28;01mfrom\u001b[39;00m \u001b[38;5;21;01msimpleai\u001b[39;00m\u001b[38;5;21;01m.\u001b[39;00m\u001b[38;5;21;01msearch\u001b[39;00m \u001b[38;5;28;01mimport\u001b[39;00m breadth_first, depth_first, SearchProblem, iterative_limited_depth_first, uniform_cost\n\u001b[1;32m----> 2\u001b[0m \u001b[38;5;28;01mimport\u001b[39;00m \u001b[38;5;21;01mosmnx\u001b[39;00m \u001b[38;5;28;01mas\u001b[39;00m \u001b[38;5;21;01mox\u001b[39;00m\n",
      "\u001b[1;31mModuleNotFoundError\u001b[0m: No module named 'osmnx'"
     ]
    }
   ],
   "source": [
    "from simpleai.search import breadth_first, depth_first, SearchProblem, iterative_limited_depth_first, uniform_cost\n",
    "import osmnx as ox"
   ]
  },
  {
   "cell_type": "code",
   "execution_count": 32,
   "id": "67b115d4",
   "metadata": {},
   "outputs": [
    {
     "ename": "ModuleNotFoundError",
     "evalue": "No module named 'osmnx'",
     "output_type": "error",
     "traceback": [
      "\u001b[1;31m---------------------------------------------------------------------------\u001b[0m",
      "\u001b[1;31mModuleNotFoundError\u001b[0m                       Traceback (most recent call last)",
      "Input \u001b[1;32mIn [32]\u001b[0m, in \u001b[0;36m<cell line: 1>\u001b[1;34m()\u001b[0m\n\u001b[1;32m----> 1\u001b[0m \u001b[38;5;28;01mimport\u001b[39;00m \u001b[38;5;21;01mosmnx\u001b[39;00m \u001b[38;5;28;01mas\u001b[39;00m \u001b[38;5;21;01mox\u001b[39;00m\n\u001b[0;32m      2\u001b[0m \u001b[38;5;28;01mfrom\u001b[39;00m \u001b[38;5;21;01msimpleai\u001b[39;00m\u001b[38;5;21;01m.\u001b[39;00m\u001b[38;5;21;01msearch\u001b[39;00m \u001b[38;5;28;01mimport\u001b[39;00m breadth_first, depth_first, SearchProblem, iterative_limited_depth_first, uniform_cost\n\u001b[0;32m      5\u001b[0m \u001b[38;5;28;01mclass\u001b[39;00m \u001b[38;5;21;01mFindRoute\u001b[39;00m(SearchProblem):\n",
      "\u001b[1;31mModuleNotFoundError\u001b[0m: No module named 'osmnx'"
     ]
    }
   ],
   "source": [
    "import osmnx as ox\n",
    "from simpleai.search import breadth_first, depth_first, SearchProblem, iterative_limited_depth_first, uniform_cost\n",
    "\n",
    "\n",
    "class FindRoute(SearchProblem):\n",
    "    def __init__(self, goal, mapa, initial_state=(1377048890), data_cost=\"length\"):\n",
    "        self.goal = goal\n",
    "        self.data_cost = data_cost\n",
    "        self.__G = mapa\n",
    "        super().__init__(initial_state)\n",
    "\n",
    "    def actions(self, state):\n",
    "        act = []\n",
    "        (current_node) = state\n",
    "        for element in self.__G.out_edges(current_node, data=self.data_cost):\n",
    "            #STRUCTURE: (FROM, TO, COST)\n",
    "            act.append(element)\n",
    "        return act\n",
    "\n",
    "    def result(self, state, action):\n",
    "        (node_from, node_to, action_cost) = action\n",
    "        return (node_to)\n",
    "    \n",
    "    def cost(self, state, action, state2):\n",
    "        (node_from, node_to, action_cost) = action\n",
    "        return action_cost\n",
    "\n",
    "    def is_goal(self, state):\n",
    "        #It finished when it arrives to the goal node\n",
    "        (curr_node) = state\n",
    "        return curr_node == self.goal\n",
    "\n",
    "class RoutePlanner:\n",
    "  def __init__(self, algorithm = uniform_cost):\n",
    "    self.__city = 'Mexico, Guadalajara'\n",
    "    self.__map = ox.graph_from_place(self.__city, network_type='drive')\n",
    "    self.__starting_node = 1377048890\n",
    "    self.__search_algorithm = algorithm\n",
    "\n",
    "    self.__destinations = {\n",
    "        \"Escuela\": 8359511705,\n",
    "        \"Trabajo\": 1699102733,\n",
    "        \"Casa\": 1343795278,\n",
    "        \"Boliche\": 9795883739,\n",
    "        \"Bar\": 1478411793\n",
    "    }\n",
    "\n",
    "  def get_route_to_destination(self, destination, color=\"r\"):\n",
    "    if destination not in self.__destinations:\n",
    "      print(\"No existe el destino ingresado.\")\n",
    "      return\n",
    "\n",
    "    destination_idx = self.__destinations[destination]\n",
    "    router = FindRoute(destination_idx, mapa = self.__map, initial_state = (self.__starting_node), data_cost=\"length\")\n",
    "\n",
    "    route_nodes = []\n",
    "\n",
    "    result = self.__search_algorithm(router, True)\n",
    "\n",
    "    if not result:\n",
    "      print(\"NO HUBO CAMINO\")\n",
    "    else:\n",
    "      for action,state in result.path():\n",
    "        if action:\n",
    "            (node_from, node_to, action_cost) = action\n",
    "            #total_cost += action_cost\n",
    "        (node) = state\n",
    "        route_nodes.append(node)\n",
    "\n",
    "      ox.plot.plot_graph_route(self.__map, route_nodes)\n"
   ]
  },
  {
   "cell_type": "code",
   "execution_count": null,
   "id": "0ec3c5e5",
   "metadata": {},
   "outputs": [],
   "source": [
    "route_planner = RoutePlanner()"
   ]
  },
  {
   "cell_type": "code",
   "execution_count": null,
   "id": "93f66caa",
   "metadata": {},
   "outputs": [],
   "source": [
    "fs=44100\n",
    "training_time = 2\n",
    "\n",
    "r_recording2 = sd.rec(training_time * fs, samplerate=fs, \n",
    "channels=2,dtype='float64')\n",
    "sd.wait()\n",
    "\n",
    "time.sleep(1)\n",
    "\n",
    "current_features = []\n",
    "mfcc_feat = mfcc(r_recording2, fs, nfft = 2048)\n",
    "current_features.append(mfcc_feat.flatten())\n",
    "x_test2 = np.array(current_features)\n",
    "\n",
    "result = labels[svc2.predict(x_test2)[0]]\n",
    "\n"
   ]
  }
 ],
 "metadata": {
  "kernelspec": {
   "display_name": "Python 3 (ipykernel)",
   "language": "python",
   "name": "python3"
  },
  "language_info": {
   "codemirror_mode": {
    "name": "ipython",
    "version": 3
   },
   "file_extension": ".py",
   "mimetype": "text/x-python",
   "name": "python",
   "nbconvert_exporter": "python",
   "pygments_lexer": "ipython3",
   "version": "3.9.10"
  }
 },
 "nbformat": 4,
 "nbformat_minor": 5
}
