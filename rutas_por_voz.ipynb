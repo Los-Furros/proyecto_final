{
 "cells": [
  {
   "cell_type": "markdown",
   "id": "d7a4d375",
   "metadata": {},
   "source": [
    "# Entrenando modelo para reconocer palabras"
   ]
  },
  {
   "cell_type": "markdown",
   "id": "e583107f",
   "metadata": {},
   "source": [
    "### Obteniendo los comandos iniciales"
   ]
  },
  {
   "cell_type": "code",
   "execution_count": null,
   "id": "9377a25d",
   "metadata": {},
   "outputs": [],
   "source": [
    "#----------------------------------------------------------------------------------\n",
    "#--------------------------------\n",
    "#   Speech data aquisition\n",
    "#----------------------------------------------------------------------------------\n",
    "#--------------------------------\n",
    "import time\n",
    "import random\n",
    "import numpy as np\n",
    "import sounddevice as sd\n",
    "import pickle\n",
    "from datetime import datetime\n",
    "# Experiment configuration\n",
    "conditions = [('Escuela', 1), ('Trabajo', 2), ('Casa', 3), ('Boliche', 4), ('Bar', 5)]\n",
    "n_trials = 30\n",
    "fixation_cross_time = 2\n",
    "preparation_time = 0.3\n",
    "training_time = 2\n",
    "rest_time = 1\n",
    "trials = n_trials*conditions\n",
    "random.shuffle(trials)\n",
    "fs=44100    \n",
    "# Data aquisition\n",
    "data = []\n",
    "for i,t in enumerate(trials):\n",
    "    # Fixation cross\n",
    "    print (\"*********\")    \n",
    "    time.sleep(fixation_cross_time)    \n",
    "    \n",
    "    # Preparation time\n",
    "    print (t[0])\n",
    "    time.sleep(preparation_time)\n",
    "    # Task    \n",
    "    recording = sd.rec(training_time * fs, samplerate=fs, \n",
    "channels=2,dtype='float64')    \n",
    "    sd.wait()\n",
    "    data.append((t[0], t[1], recording))\n",
    "    # Rest time\n",
    "    print(f\"----Descansa---- {len(trials) - i - 1} left. \")\n",
    "    time.sleep(rest_time)\n",
    "# Play records\n",
    "for t in data:\n",
    "    sd.play(t[2], fs)\n",
    "    sd.wait()\n",
    "# Save data\n",
    "outputFile = open('JORGE.obj', 'wb')\n",
    "pickle.dump(data, outputFile)\n",
    "outputFile.close()\n",
    "#----------------------------------------------------------------------------------\n",
    "#--------------------------------\n",
    "#   End of file\n",
    "#----------------------------------------------------------------------------------"
   ]
  },
  {
   "cell_type": "markdown",
   "id": "08c4511a",
   "metadata": {},
   "source": [
    "### obtener la matriz de features"
   ]
  },
  {
   "cell_type": "code",
   "execution_count": null,
   "id": "466debb7",
   "metadata": {},
   "outputs": [],
   "source": [
    "import pickle\n",
    "import numpy as np\n",
    "from scipy import stats\n",
    "from scipy import signal\n",
    "import matplotlib.pyplot as plt\n",
    "import sounddevice as sd\n",
    "from python_speech_features import mfcc\n",
    "\n",
    "def process_voice_commands(file_name):\n",
    "    #----------------------------------------------------------------------------------\n",
    "    #--------------------------------\n",
    "    #   Speech data processing\n",
    "    #----------------------------------------------------------------------------------\n",
    "    #--------------------------------\n",
    "\n",
    "\n",
    "\n",
    "    # Load audio records\n",
    "    fs = 44100\n",
    "    inputFile = open(file_name, 'rb')\n",
    "    data = pickle.load(inputFile)\n",
    "    n_trials = len(data)\n",
    "    # Plot one record\n",
    "    t = 5\n",
    "    dt = 1/fs\n",
    "    t_size = data[t][2].shape[0]\n",
    "    x = np.arange(0, t_size*dt, dt)\n",
    "    figure, axis = plt.subplots(2, 1)\n",
    "    axis[0].plot(x, data[t][2][:,0])\n",
    "    axis[0].set_title(\"Canal 1\")\n",
    "    axis[1].plot(x, data[t][2][:,1])\n",
    "    axis[1].set_title(\"Canal 2\")\n",
    "    plt.show()\n",
    "    # Filter signals\n",
    "    filt = signal.iirfilter(4, [10, 15000], rs=60, btype='band',\n",
    "                           analog=False, ftype='cheby2', fs=fs,\n",
    "                           output='ba')\n",
    "    filtered = []\n",
    "    for tr in data:\n",
    "        ff1 = signal.filtfilt(filt[0], filt[1], tr[2][:,0], method='gust')\n",
    "        ff2 = signal.filtfilt(filt[0], filt[1], tr[2][:,1], method='gust')\n",
    "        filtered.append(np.column_stack((ff1, ff2)))\n",
    "    figure, axis = plt.subplots(2, 1)\n",
    "    axis[0].plot(x, filtered[t][:,0])\n",
    "    axis[0].set_title(\"Canal 1\")\n",
    "    axis[1].plot(x, filtered[t][:,1])\n",
    "    axis[1].set_title(\"Canal 2\")\n",
    "    plt.show()\n",
    "    sd.play(filtered[t], fs)\n",
    "    sd.wait()\n",
    "    sd.play(data[t][2], fs)\n",
    "    sd.wait()\n",
    "    # Calculate MFCC features\n",
    "    mfcc_feat = mfcc(filtered[t], fs, nfft = 2048)\n",
    "    plt.matshow(mfcc_feat.T)\n",
    "    plt.show()\n",
    "    features = []\n",
    "    for tr in data:\n",
    "        mfcc_feat = mfcc(tr[2], fs, nfft = 2048)\n",
    "        features.append(mfcc_feat.flatten())\n",
    "    # Build x and y arrays\n",
    "    x = np.array(features)\n",
    "    y = [row[1] for row in data]\n",
    "    \n",
    "    y = np.array(y)\n",
    "    #return x and y\n",
    "    return x, y\n",
    "    \n",
    "    #----------------------------------------------------------------------------------\n",
    "    #--------------------------------\n",
    "    #   End of file\n",
    "    #----------------------------------------------------------------------------------\n",
    "    #--------------------------------"
   ]
  },
  {
   "cell_type": "markdown",
   "id": "fab09e79",
   "metadata": {},
   "source": [
    "### Obteniendo modelo a usar"
   ]
  },
  {
   "cell_type": "code",
   "execution_count": 1,
   "id": "5e2cc23b",
   "metadata": {
    "scrolled": true
   },
   "outputs": [
    {
     "ename": "KeyboardInterrupt",
     "evalue": "",
     "output_type": "error",
     "traceback": [
      "\u001b[0;31m---------------------------------------------------------------------------\u001b[0m",
      "\u001b[0;31mKeyboardInterrupt\u001b[0m                         Traceback (most recent call last)",
      "Input \u001b[0;32mIn [1]\u001b[0m, in \u001b[0;36m<cell line: 1>\u001b[0;34m()\u001b[0m\n\u001b[0;32m----> 1\u001b[0m \u001b[38;5;28;01mfrom\u001b[39;00m \u001b[38;5;21;01msklearn\u001b[39;00m \u001b[38;5;28;01mimport\u001b[39;00m svm\n",
      "File \u001b[0;32m/usr/local/lib/python3.10/site-packages/sklearn/__init__.py:82\u001b[0m, in \u001b[0;36m<module>\u001b[0;34m\u001b[0m\n\u001b[1;32m     80\u001b[0m \u001b[38;5;28;01mfrom\u001b[39;00m \u001b[38;5;21;01m.\u001b[39;00m \u001b[38;5;28;01mimport\u001b[39;00m _distributor_init  \u001b[38;5;66;03m# noqa: F401\u001b[39;00m\n\u001b[1;32m     81\u001b[0m \u001b[38;5;28;01mfrom\u001b[39;00m \u001b[38;5;21;01m.\u001b[39;00m \u001b[38;5;28;01mimport\u001b[39;00m __check_build  \u001b[38;5;66;03m# noqa: F401\u001b[39;00m\n\u001b[0;32m---> 82\u001b[0m \u001b[38;5;28;01mfrom\u001b[39;00m \u001b[38;5;21;01m.\u001b[39;00m\u001b[38;5;21;01mbase\u001b[39;00m \u001b[38;5;28;01mimport\u001b[39;00m clone\n\u001b[1;32m     83\u001b[0m \u001b[38;5;28;01mfrom\u001b[39;00m \u001b[38;5;21;01m.\u001b[39;00m\u001b[38;5;21;01mutils\u001b[39;00m\u001b[38;5;21;01m.\u001b[39;00m\u001b[38;5;21;01m_show_versions\u001b[39;00m \u001b[38;5;28;01mimport\u001b[39;00m show_versions\n\u001b[1;32m     85\u001b[0m __all__ \u001b[38;5;241m=\u001b[39m [\n\u001b[1;32m     86\u001b[0m     \u001b[38;5;124m\"\u001b[39m\u001b[38;5;124mcalibration\u001b[39m\u001b[38;5;124m\"\u001b[39m,\n\u001b[1;32m     87\u001b[0m     \u001b[38;5;124m\"\u001b[39m\u001b[38;5;124mcluster\u001b[39m\u001b[38;5;124m\"\u001b[39m,\n\u001b[0;32m   (...)\u001b[0m\n\u001b[1;32m    128\u001b[0m     \u001b[38;5;124m\"\u001b[39m\u001b[38;5;124mshow_versions\u001b[39m\u001b[38;5;124m\"\u001b[39m,\n\u001b[1;32m    129\u001b[0m ]\n",
      "File \u001b[0;32m/usr/local/lib/python3.10/site-packages/sklearn/base.py:17\u001b[0m, in \u001b[0;36m<module>\u001b[0;34m\u001b[0m\n\u001b[1;32m     15\u001b[0m \u001b[38;5;28;01mfrom\u001b[39;00m \u001b[38;5;21;01m.\u001b[39;00m \u001b[38;5;28;01mimport\u001b[39;00m __version__\n\u001b[1;32m     16\u001b[0m \u001b[38;5;28;01mfrom\u001b[39;00m \u001b[38;5;21;01m.\u001b[39;00m\u001b[38;5;21;01m_config\u001b[39;00m \u001b[38;5;28;01mimport\u001b[39;00m get_config\n\u001b[0;32m---> 17\u001b[0m \u001b[38;5;28;01mfrom\u001b[39;00m \u001b[38;5;21;01m.\u001b[39;00m\u001b[38;5;21;01mutils\u001b[39;00m \u001b[38;5;28;01mimport\u001b[39;00m _IS_32BIT\n\u001b[1;32m     18\u001b[0m \u001b[38;5;28;01mfrom\u001b[39;00m \u001b[38;5;21;01m.\u001b[39;00m\u001b[38;5;21;01mutils\u001b[39;00m\u001b[38;5;21;01m.\u001b[39;00m\u001b[38;5;21;01m_tags\u001b[39;00m \u001b[38;5;28;01mimport\u001b[39;00m (\n\u001b[1;32m     19\u001b[0m     _DEFAULT_TAGS,\n\u001b[1;32m     20\u001b[0m )\n\u001b[1;32m     21\u001b[0m \u001b[38;5;28;01mfrom\u001b[39;00m \u001b[38;5;21;01m.\u001b[39;00m\u001b[38;5;21;01mutils\u001b[39;00m\u001b[38;5;21;01m.\u001b[39;00m\u001b[38;5;21;01mvalidation\u001b[39;00m \u001b[38;5;28;01mimport\u001b[39;00m check_X_y\n",
      "File \u001b[0;32m/usr/local/lib/python3.10/site-packages/sklearn/utils/__init__.py:29\u001b[0m, in \u001b[0;36m<module>\u001b[0;34m\u001b[0m\n\u001b[1;32m     27\u001b[0m \u001b[38;5;28;01mfrom\u001b[39;00m \u001b[38;5;21;01m.\u001b[39;00m\u001b[38;5;21;01m.\u001b[39;00m\u001b[38;5;21;01mexceptions\u001b[39;00m \u001b[38;5;28;01mimport\u001b[39;00m DataConversionWarning\n\u001b[1;32m     28\u001b[0m \u001b[38;5;28;01mfrom\u001b[39;00m \u001b[38;5;21;01m.\u001b[39;00m\u001b[38;5;21;01mdeprecation\u001b[39;00m \u001b[38;5;28;01mimport\u001b[39;00m deprecated\n\u001b[0;32m---> 29\u001b[0m \u001b[38;5;28;01mfrom\u001b[39;00m \u001b[38;5;21;01m.\u001b[39;00m\u001b[38;5;21;01mfixes\u001b[39;00m \u001b[38;5;28;01mimport\u001b[39;00m parse_version, threadpool_info\n\u001b[1;32m     30\u001b[0m \u001b[38;5;28;01mfrom\u001b[39;00m \u001b[38;5;21;01m.\u001b[39;00m\u001b[38;5;21;01m_estimator_html_repr\u001b[39;00m \u001b[38;5;28;01mimport\u001b[39;00m estimator_html_repr\n\u001b[1;32m     31\u001b[0m \u001b[38;5;28;01mfrom\u001b[39;00m \u001b[38;5;21;01m.\u001b[39;00m\u001b[38;5;21;01mvalidation\u001b[39;00m \u001b[38;5;28;01mimport\u001b[39;00m (\n\u001b[1;32m     32\u001b[0m     as_float_array,\n\u001b[1;32m     33\u001b[0m     assert_all_finite,\n\u001b[0;32m   (...)\u001b[0m\n\u001b[1;32m     41\u001b[0m     check_scalar,\n\u001b[1;32m     42\u001b[0m )\n",
      "File \u001b[0;32m/usr/local/lib/python3.10/site-packages/sklearn/utils/fixes.py:19\u001b[0m, in \u001b[0;36m<module>\u001b[0;34m\u001b[0m\n\u001b[1;32m     17\u001b[0m \u001b[38;5;28;01mimport\u001b[39;00m \u001b[38;5;21;01mnumpy\u001b[39;00m \u001b[38;5;28;01mas\u001b[39;00m \u001b[38;5;21;01mnp\u001b[39;00m\n\u001b[1;32m     18\u001b[0m \u001b[38;5;28;01mimport\u001b[39;00m \u001b[38;5;21;01mscipy\u001b[39;00m\n\u001b[0;32m---> 19\u001b[0m \u001b[38;5;28;01mimport\u001b[39;00m \u001b[38;5;21;01mscipy\u001b[39;00m\u001b[38;5;21;01m.\u001b[39;00m\u001b[38;5;21;01mstats\u001b[39;00m\n\u001b[1;32m     20\u001b[0m \u001b[38;5;28;01mimport\u001b[39;00m \u001b[38;5;21;01mthreadpoolctl\u001b[39;00m\n\u001b[1;32m     21\u001b[0m \u001b[38;5;28;01mfrom\u001b[39;00m \u001b[38;5;21;01m.\u001b[39;00m\u001b[38;5;21;01m.\u001b[39;00m\u001b[38;5;21;01m_config\u001b[39;00m \u001b[38;5;28;01mimport\u001b[39;00m config_context, get_config\n",
      "File \u001b[0;32m/usr/local/lib/python3.10/site-packages/scipy/stats/__init__.py:453\u001b[0m, in \u001b[0;36m<module>\u001b[0;34m\u001b[0m\n\u001b[1;32m      1\u001b[0m \u001b[38;5;124;03m\"\"\"\u001b[39;00m\n\u001b[1;32m      2\u001b[0m \u001b[38;5;124;03m.. _statsrefmanual:\u001b[39;00m\n\u001b[1;32m      3\u001b[0m \n\u001b[0;32m   (...)\u001b[0m\n\u001b[1;32m    450\u001b[0m \n\u001b[1;32m    451\u001b[0m \u001b[38;5;124;03m\"\"\"\u001b[39;00m\n\u001b[0;32m--> 453\u001b[0m \u001b[38;5;28;01mfrom\u001b[39;00m \u001b[38;5;21;01m.\u001b[39;00m\u001b[38;5;21;01m_stats_py\u001b[39;00m \u001b[38;5;28;01mimport\u001b[39;00m \u001b[38;5;241m*\u001b[39m\n\u001b[1;32m    454\u001b[0m \u001b[38;5;28;01mfrom\u001b[39;00m \u001b[38;5;21;01m.\u001b[39;00m\u001b[38;5;21;01m_variation\u001b[39;00m \u001b[38;5;28;01mimport\u001b[39;00m variation\n\u001b[1;32m    455\u001b[0m \u001b[38;5;28;01mfrom\u001b[39;00m \u001b[38;5;21;01m.\u001b[39;00m\u001b[38;5;21;01mdistributions\u001b[39;00m \u001b[38;5;28;01mimport\u001b[39;00m \u001b[38;5;241m*\u001b[39m\n",
      "File \u001b[0;32m/usr/local/lib/python3.10/site-packages/scipy/stats/_stats_py.py:38\u001b[0m, in \u001b[0;36m<module>\u001b[0;34m\u001b[0m\n\u001b[1;32m     35\u001b[0m \u001b[38;5;28;01mfrom\u001b[39;00m \u001b[38;5;21;01mnumpy\u001b[39;00m \u001b[38;5;28;01mimport\u001b[39;00m array, asarray, ma\n\u001b[1;32m     36\u001b[0m \u001b[38;5;28;01mfrom\u001b[39;00m \u001b[38;5;21;01mnumpy\u001b[39;00m\u001b[38;5;21;01m.\u001b[39;00m\u001b[38;5;21;01mlib\u001b[39;00m \u001b[38;5;28;01mimport\u001b[39;00m NumpyVersion\n\u001b[0;32m---> 38\u001b[0m \u001b[38;5;28;01mfrom\u001b[39;00m \u001b[38;5;21;01mscipy\u001b[39;00m\u001b[38;5;21;01m.\u001b[39;00m\u001b[38;5;21;01mspatial\u001b[39;00m\u001b[38;5;21;01m.\u001b[39;00m\u001b[38;5;21;01mdistance\u001b[39;00m \u001b[38;5;28;01mimport\u001b[39;00m cdist\n\u001b[1;32m     39\u001b[0m \u001b[38;5;28;01mfrom\u001b[39;00m \u001b[38;5;21;01mscipy\u001b[39;00m\u001b[38;5;21;01m.\u001b[39;00m\u001b[38;5;21;01mndimage\u001b[39;00m \u001b[38;5;28;01mimport\u001b[39;00m _measurements\n\u001b[1;32m     40\u001b[0m \u001b[38;5;28;01mfrom\u001b[39;00m \u001b[38;5;21;01mscipy\u001b[39;00m\u001b[38;5;21;01m.\u001b[39;00m\u001b[38;5;21;01m_lib\u001b[39;00m\u001b[38;5;21;01m.\u001b[39;00m\u001b[38;5;21;01m_util\u001b[39;00m \u001b[38;5;28;01mimport\u001b[39;00m (check_random_state, MapWrapper,\n\u001b[1;32m     41\u001b[0m                               rng_integers, float_factorial)\n",
      "File \u001b[0;32m/usr/local/lib/python3.10/site-packages/scipy/spatial/__init__.py:104\u001b[0m, in \u001b[0;36m<module>\u001b[0;34m\u001b[0m\n\u001b[1;32m    102\u001b[0m \u001b[38;5;28;01mfrom\u001b[39;00m \u001b[38;5;21;01m.\u001b[39;00m\u001b[38;5;21;01m_kdtree\u001b[39;00m \u001b[38;5;28;01mimport\u001b[39;00m \u001b[38;5;241m*\u001b[39m\n\u001b[1;32m    103\u001b[0m \u001b[38;5;28;01mfrom\u001b[39;00m \u001b[38;5;21;01m.\u001b[39;00m\u001b[38;5;21;01m_ckdtree\u001b[39;00m \u001b[38;5;28;01mimport\u001b[39;00m \u001b[38;5;241m*\u001b[39m\n\u001b[0;32m--> 104\u001b[0m \u001b[38;5;28;01mfrom\u001b[39;00m \u001b[38;5;21;01m.\u001b[39;00m\u001b[38;5;21;01m_qhull\u001b[39;00m \u001b[38;5;28;01mimport\u001b[39;00m \u001b[38;5;241m*\u001b[39m\n\u001b[1;32m    105\u001b[0m \u001b[38;5;28;01mfrom\u001b[39;00m \u001b[38;5;21;01m.\u001b[39;00m\u001b[38;5;21;01m_spherical_voronoi\u001b[39;00m \u001b[38;5;28;01mimport\u001b[39;00m SphericalVoronoi\n\u001b[1;32m    106\u001b[0m \u001b[38;5;28;01mfrom\u001b[39;00m \u001b[38;5;21;01m.\u001b[39;00m\u001b[38;5;21;01m_plotutils\u001b[39;00m \u001b[38;5;28;01mimport\u001b[39;00m \u001b[38;5;241m*\u001b[39m\n",
      "File \u001b[0;32m<frozen importlib._bootstrap>:404\u001b[0m, in \u001b[0;36mparent\u001b[0;34m(self)\u001b[0m\n",
      "\u001b[0;31mKeyboardInterrupt\u001b[0m: "
     ]
    }
   ],
   "source": [
    "from sklearn import svm"
   ]
  },
  {
   "cell_type": "code",
   "execution_count": 5,
   "id": "86873159",
   "metadata": {},
   "outputs": [],
   "source": [
    "def getSVC():\n",
    "    return svm.SVC(kernel='linear')\n",
    "def getRad():\n",
    "    return svm.SVC(kernel='rbf')"
   ]
  },
  {
   "cell_type": "code",
   "execution_count": 6,
   "id": "b36a548d",
   "metadata": {},
   "outputs": [],
   "source": [
    "modelos = {\n",
    "    \"SVM lineal\": getSVC,\n",
    "    \"SVM de base radial\": getRad,\n",
    "}"
   ]
  },
  {
   "cell_type": "markdown",
   "id": "10728f00",
   "metadata": {},
   "source": [
    "## Obteniendo features del audio "
   ]
  },
  {
   "cell_type": "code",
   "execution_count": 9,
   "id": "4db65bb0",
   "metadata": {},
   "outputs": [
    {
     "name": "stdout",
     "output_type": "stream",
     "text": [
      "<function getSVC at 0x129dd4820>\n"
     ]
    }
   ],
   "source": [
    "print(f\"USANDO COMANDOS DE: JORGITO\")\n",
    "file_name = \"JORGE.obj\"\n",
    "x, y = process_voice_commands(file_name)\n",
    "model_string = \"SVM lineal\"\n",
    "model = modelos[model_string]\n",
    "print(f\"USANDO MODELO: {modelo_string}\")\n",
    "clas_results = cross_validate(model, x, y, cv = 5, scoring = ('accuracy', 'recall_micro', 'precision_micro'))\n",
    "print('Acc: ', clas_results['test_accuracy'].sum()/5)\n",
    "print('Recall: ', clas_results['test_recall_micro'].sum()/5)\n",
    "print('Precision: ', clas_results['test_precision_micro'].sum()/5)\n",
    "print()\n",
    "print()"
   ]
  },
  {
   "cell_type": "code",
   "execution_count": null,
   "id": "7dc5732b",
   "metadata": {},
   "outputs": [],
   "source": [
    "svc = model()\n",
    "svc.fit(x,y)"
   ]
  },
  {
   "cell_type": "markdown",
   "id": "ed59c1a5",
   "metadata": {},
   "source": [
    "# Planificador de rutas"
   ]
  },
  {
   "cell_type": "code",
   "execution_count": 1,
   "id": "e0f596c5",
   "metadata": {},
   "outputs": [
    {
     "name": "stdout",
     "output_type": "stream",
     "text": [
      "Requirement already satisfied: osmnx in /mnt/c/TEC/OCTAVO_b/SISTEMAS/proyecto_final/env_proyecto/lib/python3.8/site-packages (1.1.2)\n",
      "Requirement already satisfied: simpleai in /mnt/c/TEC/OCTAVO_b/SISTEMAS/proyecto_final/env_proyecto/lib/python3.8/site-packages (0.8.3)\n",
      "Requirement already satisfied: matplotlib>=3.4 in /mnt/c/TEC/OCTAVO_b/SISTEMAS/proyecto_final/env_proyecto/lib/python3.8/site-packages (from osmnx) (3.5.1)\n",
      "Requirement already satisfied: requests>=2.26 in /mnt/c/TEC/OCTAVO_b/SISTEMAS/proyecto_final/env_proyecto/lib/python3.8/site-packages (from osmnx) (2.27.1)\n",
      "Requirement already satisfied: geopandas>=0.10 in /mnt/c/TEC/OCTAVO_b/SISTEMAS/proyecto_final/env_proyecto/lib/python3.8/site-packages (from osmnx) (0.10.2)\n",
      "Requirement already satisfied: pandas>=1.3 in /mnt/c/TEC/OCTAVO_b/SISTEMAS/proyecto_final/env_proyecto/lib/python3.8/site-packages (from osmnx) (1.4.2)\n",
      "Requirement already satisfied: Rtree>=0.9 in /mnt/c/TEC/OCTAVO_b/SISTEMAS/proyecto_final/env_proyecto/lib/python3.8/site-packages (from osmnx) (1.0.0)\n",
      "Requirement already satisfied: Shapely<2.0,>=1.7 in /mnt/c/TEC/OCTAVO_b/SISTEMAS/proyecto_final/env_proyecto/lib/python3.8/site-packages (from osmnx) (1.8.1.post1)\n",
      "Requirement already satisfied: networkx>=2.6 in /mnt/c/TEC/OCTAVO_b/SISTEMAS/proyecto_final/env_proyecto/lib/python3.8/site-packages (from osmnx) (2.8)\n",
      "Requirement already satisfied: numpy>=1.21 in /mnt/c/TEC/OCTAVO_b/SISTEMAS/proyecto_final/env_proyecto/lib/python3.8/site-packages (from osmnx) (1.22.3)\n",
      "Requirement already satisfied: pyproj>=3.2 in /mnt/c/TEC/OCTAVO_b/SISTEMAS/proyecto_final/env_proyecto/lib/python3.8/site-packages (from osmnx) (3.3.0)\n",
      "Requirement already satisfied: pyparsing>=2.2.1 in /mnt/c/TEC/OCTAVO_b/SISTEMAS/proyecto_final/env_proyecto/lib/python3.8/site-packages (from matplotlib>=3.4->osmnx) (3.0.8)\n",
      "Requirement already satisfied: packaging>=20.0 in /mnt/c/TEC/OCTAVO_b/SISTEMAS/proyecto_final/env_proyecto/lib/python3.8/site-packages (from matplotlib>=3.4->osmnx) (21.3)\n",
      "Requirement already satisfied: cycler>=0.10 in /mnt/c/TEC/OCTAVO_b/SISTEMAS/proyecto_final/env_proyecto/lib/python3.8/site-packages (from matplotlib>=3.4->osmnx) (0.11.0)\n",
      "Requirement already satisfied: pillow>=6.2.0 in /mnt/c/TEC/OCTAVO_b/SISTEMAS/proyecto_final/env_proyecto/lib/python3.8/site-packages (from matplotlib>=3.4->osmnx) (9.1.0)\n",
      "Requirement already satisfied: python-dateutil>=2.7 in /mnt/c/TEC/OCTAVO_b/SISTEMAS/proyecto_final/env_proyecto/lib/python3.8/site-packages (from matplotlib>=3.4->osmnx) (2.8.2)\n",
      "Requirement already satisfied: kiwisolver>=1.0.1 in /mnt/c/TEC/OCTAVO_b/SISTEMAS/proyecto_final/env_proyecto/lib/python3.8/site-packages (from matplotlib>=3.4->osmnx) (1.4.2)\n",
      "Requirement already satisfied: fonttools>=4.22.0 in /mnt/c/TEC/OCTAVO_b/SISTEMAS/proyecto_final/env_proyecto/lib/python3.8/site-packages (from matplotlib>=3.4->osmnx) (4.32.0)\n",
      "Requirement already satisfied: certifi>=2017.4.17 in /mnt/c/TEC/OCTAVO_b/SISTEMAS/proyecto_final/env_proyecto/lib/python3.8/site-packages (from requests>=2.26->osmnx) (2021.10.8)\n",
      "Requirement already satisfied: urllib3<1.27,>=1.21.1 in /mnt/c/TEC/OCTAVO_b/SISTEMAS/proyecto_final/env_proyecto/lib/python3.8/site-packages (from requests>=2.26->osmnx) (1.26.9)\n",
      "Requirement already satisfied: charset-normalizer~=2.0.0; python_version >= \"3\" in /mnt/c/TEC/OCTAVO_b/SISTEMAS/proyecto_final/env_proyecto/lib/python3.8/site-packages (from requests>=2.26->osmnx) (2.0.12)\n",
      "Requirement already satisfied: idna<4,>=2.5; python_version >= \"3\" in /mnt/c/TEC/OCTAVO_b/SISTEMAS/proyecto_final/env_proyecto/lib/python3.8/site-packages (from requests>=2.26->osmnx) (3.3)\n",
      "Requirement already satisfied: fiona>=1.8 in /mnt/c/TEC/OCTAVO_b/SISTEMAS/proyecto_final/env_proyecto/lib/python3.8/site-packages (from geopandas>=0.10->osmnx) (1.8.21)\n",
      "Requirement already satisfied: pytz>=2020.1 in /mnt/c/TEC/OCTAVO_b/SISTEMAS/proyecto_final/env_proyecto/lib/python3.8/site-packages (from pandas>=1.3->osmnx) (2022.1)\n",
      "Requirement already satisfied: six>=1.5 in /mnt/c/TEC/OCTAVO_b/SISTEMAS/proyecto_final/env_proyecto/lib/python3.8/site-packages (from python-dateutil>=2.7->matplotlib>=3.4->osmnx) (1.16.0)\n",
      "Requirement already satisfied: setuptools in /mnt/c/TEC/OCTAVO_b/SISTEMAS/proyecto_final/env_proyecto/lib/python3.8/site-packages (from fiona>=1.8->geopandas>=0.10->osmnx) (44.0.0)\n",
      "Requirement already satisfied: munch in /mnt/c/TEC/OCTAVO_b/SISTEMAS/proyecto_final/env_proyecto/lib/python3.8/site-packages (from fiona>=1.8->geopandas>=0.10->osmnx) (2.5.0)\n",
      "Requirement already satisfied: click-plugins>=1.0 in /mnt/c/TEC/OCTAVO_b/SISTEMAS/proyecto_final/env_proyecto/lib/python3.8/site-packages (from fiona>=1.8->geopandas>=0.10->osmnx) (1.1.1)\n",
      "Requirement already satisfied: click>=4.0 in /mnt/c/TEC/OCTAVO_b/SISTEMAS/proyecto_final/env_proyecto/lib/python3.8/site-packages (from fiona>=1.8->geopandas>=0.10->osmnx) (8.1.2)\n",
      "Requirement already satisfied: attrs>=17 in /mnt/c/TEC/OCTAVO_b/SISTEMAS/proyecto_final/env_proyecto/lib/python3.8/site-packages (from fiona>=1.8->geopandas>=0.10->osmnx) (21.4.0)\n",
      "Requirement already satisfied: cligj>=0.5 in /mnt/c/TEC/OCTAVO_b/SISTEMAS/proyecto_final/env_proyecto/lib/python3.8/site-packages (from fiona>=1.8->geopandas>=0.10->osmnx) (0.7.2)\n"
     ]
    }
   ],
   "source": [
    "#Instalando librerías de open street map y de simpleAI\n",
    "!pip install osmnx simpleai"
   ]
  },
  {
   "cell_type": "code",
   "execution_count": 2,
   "id": "67b115d4",
   "metadata": {},
   "outputs": [],
   "source": [
    "import osmnx as ox\n",
    "from simpleai.search import breadth_first, depth_first, SearchProblem, iterative_limited_depth_first, uniform_cost\n",
    "\n",
    "\n",
    "class FindRoute(SearchProblem):\n",
    "    def __init__(self, goal, mapa, initial_state=(1377048890), data_cost=\"length\"):\n",
    "        self.goal = goal\n",
    "        self.data_cost = data_cost\n",
    "        self.__G = mapa\n",
    "        super().__init__(initial_state)\n",
    "\n",
    "    def actions(self, state):\n",
    "        act = []\n",
    "        (current_node) = state\n",
    "        for element in self.__G.out_edges(current_node, data=self.data_cost):\n",
    "            #STRUCTURE: (FROM, TO, COST)\n",
    "            act.append(element)\n",
    "        return act\n",
    "\n",
    "    def result(self, state, action):\n",
    "        (node_from, node_to, action_cost) = action\n",
    "        return (node_to)\n",
    "    \n",
    "    def cost(self, state, action, state2):\n",
    "        (node_from, node_to, action_cost) = action\n",
    "        return action_cost\n",
    "\n",
    "    def is_goal(self, state):\n",
    "        #It finished when it arrives to the goal node\n",
    "        (curr_node) = state\n",
    "        return curr_node == self.goal\n",
    "\n",
    "class RoutePlanner:\n",
    "  def __init__(self, algorithm = uniform_cost):\n",
    "    self.__city = 'Mexico, Guadalajara'\n",
    "    self.__map = ox.graph_from_place(self.__city, network_type='drive')\n",
    "    self.__starting_node = 1377048890\n",
    "    self.__search_algorithm = algorithm\n",
    "\n",
    "    self.__destinations = {\n",
    "        \"pizza\": 8359511705,\n",
    "        \"escuela\": 1699102733,\n",
    "        \"hospital\": 1343795278,\n",
    "        \"cine\": 9795883739,\n",
    "        \"restaurante\": 1478411793\n",
    "    }\n",
    "\n",
    "  def get_route_to_destination(self, destination, color=\"r\"):\n",
    "    if destination not in self.__destinations:\n",
    "      print(\"No existe el destino ingresado.\")\n",
    "      return\n",
    "\n",
    "    destination_idx = self.__destinations[destination]\n",
    "    router = FindRoute(destination_idx, mapa = self.__map, initial_state = (self.__starting_node), data_cost=\"length\")\n",
    "\n",
    "    route_nodes = []\n",
    "\n",
    "    result = self.__search_algorithm(router, True)\n",
    "\n",
    "    if not result:\n",
    "      print(\"NO HUBO CAMINO\")\n",
    "    else:\n",
    "      for action,state in result.path():\n",
    "        if action:\n",
    "            (node_from, node_to, action_cost) = action\n",
    "            #total_cost += action_cost\n",
    "        (node) = state\n",
    "        route_nodes.append(node)\n",
    "\n",
    "      ox.plot.plot_graph_route(self.__map, route_nodes)\n"
   ]
  }
 ],
 "metadata": {
  "kernelspec": {
   "display_name": "Python 3 (ipykernel)",
   "language": "python",
   "name": "python3"
  },
  "language_info": {
   "codemirror_mode": {
    "name": "ipython",
    "version": 3
   },
   "file_extension": ".py",
   "mimetype": "text/x-python",
   "name": "python",
   "nbconvert_exporter": "python",
   "pygments_lexer": "ipython3",
   "version": "3.10.2"
  }
 },
 "nbformat": 4,
 "nbformat_minor": 5
}
